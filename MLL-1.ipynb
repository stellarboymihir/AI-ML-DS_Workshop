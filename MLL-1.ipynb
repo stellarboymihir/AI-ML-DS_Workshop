{
 "cells": [
  {
   "cell_type": "code",
   "execution_count": 1,
   "id": "c7ba44bb",
   "metadata": {},
   "outputs": [],
   "source": [
    "#Creating & Visualizing Neural Network for the given data. (Use python) Note: download\n",
    "#dataset using Kaggal. Keras, ANN visualizer, graph viz libraries are required."
   ]
  },
  {
   "cell_type": "code",
   "execution_count": 3,
   "id": "76799333",
   "metadata": {},
   "outputs": [],
   "source": [
    "# pip install keras tensorflow"
   ]
  },
  {
   "cell_type": "code",
   "execution_count": null,
   "id": "a7420c25",
   "metadata": {},
   "outputs": [],
   "source": []
  }
 ],
 "metadata": {
  "kernelspec": {
   "display_name": "Python 3 (ipykernel)",
   "language": "python",
   "name": "python3"
  },
  "language_info": {
   "codemirror_mode": {
    "name": "ipython",
    "version": 3
   },
   "file_extension": ".py",
   "mimetype": "text/x-python",
   "name": "python",
   "nbconvert_exporter": "python",
   "pygments_lexer": "ipython3",
   "version": "3.10.7"
  }
 },
 "nbformat": 4,
 "nbformat_minor": 5
}
